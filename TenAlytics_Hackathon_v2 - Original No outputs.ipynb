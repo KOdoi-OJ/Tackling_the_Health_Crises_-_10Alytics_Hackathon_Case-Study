{
 "cells": [
  {
   "cell_type": "markdown",
   "id": "0a855cc7",
   "metadata": {
    "toc": true
   },
   "source": [
    "<h1>Table of Contents<span class=\"tocSkip\"></span></h1>\n",
    "<div class=\"toc\"><ul class=\"toc-item\"><li><span><a href=\"#An-Analysis-of-Healthcare-in-Africa:-Deaths-and-Investments\" data-toc-modified-id=\"An-Analysis-of-Healthcare-in-Africa:-Deaths-and-Investments-1\"><span class=\"toc-item-num\">1&nbsp;&nbsp;</span>An Analysis of Healthcare in Africa: Deaths and Investments</a></span><ul class=\"toc-item\"><li><span><a href=\"#Thought:-Should-drug-abuse-be-Africa's-immediate-health-concern?\" data-toc-modified-id=\"Thought:-Should-drug-abuse-be-Africa's-immediate-health-concern?-1.1\"><span class=\"toc-item-num\">1.1&nbsp;&nbsp;</span>Thought: Should drug abuse be Africa's immediate health concern?</a></span></li><li><span><a href=\"#Load-Necessary-Libraries-and-Packages\" data-toc-modified-id=\"Load-Necessary-Libraries-and-Packages-1.2\"><span class=\"toc-item-num\">1.2&nbsp;&nbsp;</span>Load Necessary Libraries and Packages</a></span></li><li><span><a href=\"#Load-the-Datasets\" data-toc-modified-id=\"Load-the-Datasets-1.3\"><span class=\"toc-item-num\">1.3&nbsp;&nbsp;</span>Load the Datasets</a></span></li><li><span><a href=\"#Combine-the-DataFrames\" data-toc-modified-id=\"Combine-the-DataFrames-1.4\"><span class=\"toc-item-num\">1.4&nbsp;&nbsp;</span>Combine the DataFrames</a></span></li><li><span><a href=\"#Hypotheses-and-Questions\" data-toc-modified-id=\"Hypotheses-and-Questions-1.5\"><span class=\"toc-item-num\">1.5&nbsp;&nbsp;</span>Hypotheses and Questions</a></span><ul class=\"toc-item\"><li><span><a href=\"#The-number-of-doctors-per-10,000-population-is-positively-related-to-the-total-number-of-deaths.\" data-toc-modified-id=\"The-number-of-doctors-per-10,000-population-is-positively-related-to-the-total-number-of-deaths.-1.5.1\"><span class=\"toc-item-num\">1.5.1&nbsp;&nbsp;</span>The number of doctors per 10,000 population is positively related to the total number of deaths.</a></span></li><li><span><a href=\"#What-is-the-relationship-between-health-expenditure-as-a-percentage-of-GDP,-and-total-deaths?\" data-toc-modified-id=\"What-is-the-relationship-between-health-expenditure-as-a-percentage-of-GDP,-and-total-deaths?-1.5.2\"><span class=\"toc-item-num\">1.5.2&nbsp;&nbsp;</span>What is the relationship between health expenditure as a percentage of GDP, and total deaths?</a></span></li><li><span><a href=\"#Which-causes-of-death-are-most-common-in-Africa?\" data-toc-modified-id=\"Which-causes-of-death-are-most-common-in-Africa?-1.5.3\"><span class=\"toc-item-num\">1.5.3&nbsp;&nbsp;</span>Which causes of death are most common in Africa?</a></span></li><li><span><a href=\"#Which-causes-of-death-affect-young-Africans-the-most?\" data-toc-modified-id=\"Which-causes-of-death-affect-young-Africans-the-most?-1.5.4\"><span class=\"toc-item-num\">1.5.4&nbsp;&nbsp;</span>Which causes of death affect young Africans the most?</a></span></li><li><span><a href=\"#What-has-been-the-trend-of-the-leading-causes-of-death-among-the-youth-over-the-years?\" data-toc-modified-id=\"What-has-been-the-trend-of-the-leading-causes-of-death-among-the-youth-over-the-years?-1.5.5\"><span class=\"toc-item-num\">1.5.5&nbsp;&nbsp;</span>What has been the trend of the leading causes of death among the youth over the years?</a></span></li><li><span><a href=\"#How-have-the-causes-of-death-changed-with-this-trend?\" data-toc-modified-id=\"How-have-the-causes-of-death-changed-with-this-trend?-1.5.6\"><span class=\"toc-item-num\">1.5.6&nbsp;&nbsp;</span>How have the causes of death changed with this trend?</a></span></li><li><span><a href=\"#How-do-the-causes-of-death-relate-with-population-changes?\" data-toc-modified-id=\"How-do-the-causes-of-death-relate-with-population-changes?-1.5.7\"><span class=\"toc-item-num\">1.5.7&nbsp;&nbsp;</span>How do the causes of death relate with population changes?</a></span></li><li><span><a href=\"#How-does-the-number-of-medical-professionals-per-10,000-people-correlate-with-the-rate-of-deaths-from-cardiovascular-diseases?\" data-toc-modified-id=\"How-does-the-number-of-medical-professionals-per-10,000-people-correlate-with-the-rate-of-deaths-from-cardiovascular-diseases?-1.5.8\"><span class=\"toc-item-num\">1.5.8&nbsp;&nbsp;</span>How does the number of medical professionals per 10,000 people correlate with the rate of deaths from cardiovascular diseases?</a></span></li></ul></li><li><span><a href=\"#Insights-and-Recommendations\" data-toc-modified-id=\"Insights-and-Recommendations-1.6\"><span class=\"toc-item-num\">1.6&nbsp;&nbsp;</span>Insights and Recommendations</a></span></li><li><span><a href=\"#Conclusion:-Should-drug-abuse-be-Africa's-immediate-health-concern?\" data-toc-modified-id=\"Conclusion:-Should-drug-abuse-be-Africa's-immediate-health-concern?-1.7\"><span class=\"toc-item-num\">1.7&nbsp;&nbsp;</span>Conclusion: Should drug abuse be Africa's immediate health concern?</a></span></li></ul></li></ul></div>"
   ]
  },
  {
   "cell_type": "markdown",
   "id": "a388fd65",
   "metadata": {},
   "source": [
    "# An Analysis of Healthcare in Africa: Deaths and Investments\n",
    "## Thought: Should drug abuse be Africa's immediate health concern?"
   ]
  },
  {
   "cell_type": "markdown",
   "id": "d23162f5",
   "metadata": {},
   "source": [
    "## Load Necessary Libraries and Packages"
   ]
  },
  {
   "cell_type": "code",
   "execution_count": null,
   "id": "4d88ff0e",
   "metadata": {},
   "outputs": [],
   "source": [
    "# Importing and loading relevant libraries and packages\n",
    "import zipfile\n",
    "\n",
    "import numpy as np\n",
    "import pandas as pd\n",
    "\n",
    "import seaborn as sns\n",
    "import plotly.express as px\n",
    "import matplotlib.pyplot as plt\n",
    "\n",
    "# Hiding warnings\n",
    "import warnings\n",
    "warnings.filterwarnings(\"ignore\")\n",
    "\n",
    "print(\"Loading complete.\", \"Warnings hidden.\")"
   ]
  },
  {
   "cell_type": "markdown",
   "id": "9280859c",
   "metadata": {},
   "source": [
    "## Load the Datasets"
   ]
  },
  {
   "cell_type": "code",
   "execution_count": null,
   "id": "d9a9a5ee",
   "metadata": {},
   "outputs": [],
   "source": [
    "# Extracting the main zip file\n",
    "with zipfile.ZipFile(\"10Alytics_Hackathon_Case Study.zip\", \"r\") as zip_loaded:\n",
    "    zip_loaded.extractall(\"files/\")\n",
    "\n",
    "print(\"Extraction Complete.\")"
   ]
  },
  {
   "cell_type": "code",
   "execution_count": null,
   "id": "d0fd1fd8",
   "metadata": {},
   "outputs": [],
   "source": [
    "# Extracting the second zip file to Get Access to the Datasets\n",
    "with zipfile.ZipFile(\"files/Final Datasets.zip\", \"r\") as zip_loaded:\n",
    "    zip_loaded.extractall(\"files/Final_Datasets/\")\n",
    "\n",
    "print(\"Dataset Extraction Complete.\")"
   ]
  },
  {
   "cell_type": "code",
   "execution_count": null,
   "id": "d69aa390",
   "metadata": {},
   "outputs": [],
   "source": [
    "# Removing the restriction on columns to display\n",
    "pd.set_option(\"display.max_columns\", None)"
   ]
  },
  {
   "cell_type": "code",
   "execution_count": null,
   "id": "2efbf716",
   "metadata": {},
   "outputs": [],
   "source": [
    "# Loading the data on deaths by cause\n",
    "deaths_by_cause = pd.read_csv(\"files/Final_Datasets/1. annual-number-of-deaths-by-cause.csv\")\n",
    "deaths_by_cause"
   ]
  },
  {
   "cell_type": "code",
   "execution_count": null,
   "id": "b75601ef",
   "metadata": {},
   "outputs": [],
   "source": [
    "deaths_by_cause.rename(columns = {\"Number of executions (Amnesty International)\":\"Execution\"}, inplace = True)"
   ]
  },
  {
   "cell_type": "code",
   "execution_count": null,
   "id": "561a7a6f",
   "metadata": {},
   "outputs": [],
   "source": [
    "deaths_by_cause.info(show_counts=True)"
   ]
  },
  {
   "cell_type": "code",
   "execution_count": null,
   "id": "f8cf0163",
   "metadata": {},
   "outputs": [],
   "source": [
    "causes_of_death = deaths_by_cause.iloc[:,3:].columns.to_list()\n",
    "causes_of_death"
   ]
  },
  {
   "cell_type": "code",
   "execution_count": null,
   "id": "9bf3d25f",
   "metadata": {},
   "outputs": [],
   "source": [
    "# Converting the health data into a long format for ease of merging\n",
    "elongated_death_by_cause = deaths_by_cause.melt(id_vars= [\"Entity\", \"Code\", \"Year\"],\n",
    "                                               value_vars= deaths_by_cause.iloc[:,3:].columns.to_list(),\n",
    "                                               var_name= \"Cause_of_Death\").rename(columns = {\"value\":\"Number_of_Deaths\"})\n",
    "elongated_death_by_cause"
   ]
  },
  {
   "cell_type": "code",
   "execution_count": null,
   "id": "bd2c6c02",
   "metadata": {},
   "outputs": [],
   "source": [
    "# Loading the data on deaths by age group\n",
    "deaths_by_age_group = pd.read_csv(\"files/Final_Datasets/2. number-of-deaths-by-age-group.csv\")\n",
    "deaths_by_age_group"
   ]
  },
  {
   "cell_type": "code",
   "execution_count": null,
   "id": "837d0363",
   "metadata": {},
   "outputs": [],
   "source": [
    "# Rename the age groups to make them user friendly and analysis-friendly\n",
    "deaths_by_age_group.rename(columns = {\"Deaths 70+ years\": \"Elderly\", \n",
    "                                      \"Deaths 50-69 years\": \"Middle Age\", \n",
    "                                      \"Deaths Age: 15-49 years\": \"Young Adult\", \n",
    "                                      \"Deaths 5-14 years\": \"Pre-teen\", \n",
    "                                      \"Deaths Under 5\": \"Infant\"}, \n",
    "                           inplace=True)"
   ]
  },
  {
   "cell_type": "code",
   "execution_count": null,
   "id": "3595bf3f",
   "metadata": {},
   "outputs": [],
   "source": [
    "# Get the total number of deaths\n",
    "deaths_by_age_group[\"Total_Deaths\"] = deaths_by_age_group[\"Elderly\"] + deaths_by_age_group[\"Middle Age\"] + deaths_by_age_group[\"Young Adult\"] + deaths_by_age_group[\"Pre-teen\"] + deaths_by_age_group[\"Infant\"]"
   ]
  },
  {
   "cell_type": "code",
   "execution_count": null,
   "id": "acd45752",
   "metadata": {},
   "outputs": [],
   "source": [
    "# Converting the health data into a long format for ease of merging\n",
    "elongated_death_by_age = deaths_by_age_group.melt(id_vars= [\"Entity\", \"Code\", \"Year\", \"Total_Deaths\"],\n",
    "                                               value_vars= deaths_by_age_group.iloc[:,3:].columns.to_list(),\n",
    "                                               var_name= \"Age_Group\").rename(columns = {\"value\":\"No_of_Deaths_by_Age\"})\n",
    "elongated_death_by_age[\"Age_Group\"] = elongated_death_by_age[\"Age_Group\"].replace(\"Deaths \")\n",
    "elongated_death_by_age"
   ]
  },
  {
   "cell_type": "code",
   "execution_count": null,
   "id": "e6586137",
   "metadata": {},
   "outputs": [],
   "source": [
    "deaths_by_age_group.info(show_counts= True)"
   ]
  },
  {
   "cell_type": "code",
   "execution_count": null,
   "id": "e60f289f",
   "metadata": {
    "scrolled": true
   },
   "outputs": [],
   "source": [
    "# Loading the data on doctors per 10,000\n",
    "doctors_per_10k = pd.read_excel(\"files/Final_Datasets/3. Medical Doctors Per 10000 population.xlsx\", skiprows =[0,1])\n",
    "doctors_per_10k.head()"
   ]
  },
  {
   "cell_type": "code",
   "execution_count": null,
   "id": "a78d2a4a",
   "metadata": {
    "scrolled": false
   },
   "outputs": [],
   "source": [
    "doctors_per_10k.info(show_counts=True)"
   ]
  },
  {
   "cell_type": "code",
   "execution_count": null,
   "id": "985a50f0",
   "metadata": {},
   "outputs": [],
   "source": [
    "# Loading the data on country codes\n",
    "iso_country_codes = pd.read_csv(\"files/Final_Datasets/4. ISO 3166_country-and-continent-codes-list-csv.csv\")\n",
    "iso_country_codes.rename(columns = {\"Three_Letter_Country_Code\":\"Code\"}, inplace = True)\n",
    "iso_country_codes"
   ]
  },
  {
   "cell_type": "code",
   "execution_count": null,
   "id": "d5ebca3e",
   "metadata": {},
   "outputs": [],
   "source": [
    "iso_country_codes.info(show_counts=True)"
   ]
  },
  {
   "cell_type": "code",
   "execution_count": null,
   "id": "120d70c2",
   "metadata": {},
   "outputs": [],
   "source": [
    "iso_country_codes[\"Continent_Name\"].unique()"
   ]
  },
  {
   "cell_type": "code",
   "execution_count": null,
   "id": "de48b486",
   "metadata": {},
   "outputs": [],
   "source": [
    "# Loading the data on world population\n",
    "world_population_df = pd.read_csv(\"files/Final_Datasets/5. World Population.csv\")\n",
    "world_population_df"
   ]
  },
  {
   "cell_type": "code",
   "execution_count": null,
   "id": "3fc3bad8",
   "metadata": {
    "scrolled": false
   },
   "outputs": [],
   "source": [
    "melted_population = world_population_df.melt(id_vars = [\"Entity\", \"Code\", \"Population (historical estimates)\"], value_vars = [\"Year\"])\n",
    "melted_population = melted_population.pivot(index= \"Entity\", columns='value', values= \"Population (historical estimates)\")\n",
    "melted_population = melted_population.reset_index()\n",
    "melted_population"
   ]
  },
  {
   "cell_type": "code",
   "execution_count": null,
   "id": "f366ae58",
   "metadata": {},
   "outputs": [],
   "source": [
    "world_population_df.info(show_counts=True)"
   ]
  },
  {
   "cell_type": "code",
   "execution_count": null,
   "id": "80ddce97",
   "metadata": {},
   "outputs": [],
   "source": [
    "# Loading the data on current health expenditure\n",
    "health_expenditure = pd.read_excel(\"files/Final_Datasets/6. Current health expenditure (% of GDP).xlsx\", skiprows= [0,1,2,3])\n",
    "health_expenditure"
   ]
  },
  {
   "cell_type": "code",
   "execution_count": null,
   "id": "066a661d",
   "metadata": {
    "scrolled": false
   },
   "outputs": [],
   "source": [
    "health_expenditure.info(show_counts= True)"
   ]
  },
  {
   "cell_type": "code",
   "execution_count": null,
   "id": "3977907a",
   "metadata": {
    "hide_input": false,
    "scrolled": false
   },
   "outputs": [],
   "source": [
    "#health_expenditure.iloc[:,3:].columns.to_list()"
   ]
  },
  {
   "cell_type": "code",
   "execution_count": null,
   "id": "b4ca76b3",
   "metadata": {},
   "outputs": [],
   "source": [
    "# Converting the health data into a long format for ease of merging\n",
    "elongated_health_data = health_expenditure.melt(id_vars= [\"Country Name\", \"Country Code\", \"Indicator Name\"],\n",
    "                                               value_vars= health_expenditure.iloc[:,3:].columns.to_list(),\n",
    "                                               var_name= \"Year\").rename(columns = {\"Country Code\": \"Code\", \n",
    "                                                                                   \"value\":\"Health_Exp_of_GDP\"})\n",
    "elongated_health_data"
   ]
  },
  {
   "cell_type": "markdown",
   "id": "d4f8471c",
   "metadata": {},
   "source": [
    "To limit the analysis to Africa, I will join all the datasets and then filter out the African countries."
   ]
  },
  {
   "cell_type": "code",
   "execution_count": null,
   "id": "ea949d12",
   "metadata": {},
   "outputs": [],
   "source": [
    "# # Join deaths by cause with deaths by age group\n",
    "# death_by_cause_with_continent = pd.merge(deaths_by_cause, iso_country_codes, on = \"Code\", how = \"outer\")\n",
    "# death_by_cause_with_continent"
   ]
  },
  {
   "cell_type": "code",
   "execution_count": null,
   "id": "5a21db0e",
   "metadata": {},
   "outputs": [],
   "source": [
    "# # Dataframe with all deaths data\n",
    "# all_deaths = death_by_cause_with_continent.merge(deaths_by_age_group, on= [\"Code\", \"Entity\", \"Year\"], how = \"outer\")\n",
    "# all_deaths.head()"
   ]
  },
  {
   "cell_type": "code",
   "execution_count": null,
   "id": "eb2c5c43",
   "metadata": {},
   "outputs": [],
   "source": [
    "# # Deaths and doctors data together\n",
    "# deaths_plus_doctors = all_deaths.merge(doctors_per_10k, \n",
    "#                                        how = \"outer\", \n",
    "#                                        left_on = [\"Code\", \"Year\"], \n",
    "#                                        right_on= [\"ThreeLocCode\", \"Period\"])\n",
    "# deaths_plus_doctors"
   ]
  },
  {
   "cell_type": "code",
   "execution_count": null,
   "id": "38141876",
   "metadata": {},
   "outputs": [],
   "source": [
    "# # Data on deaths and doctors with populations\n",
    "# semi_fin = deaths_plus_doctors.merge(world_population_df, on = [\"Entity\", \"Code\", \"Year\"], how = \"outer\")\n",
    "# semi_fin"
   ]
  },
  {
   "cell_type": "code",
   "execution_count": null,
   "id": "e26a6d1c",
   "metadata": {},
   "outputs": [],
   "source": [
    "# # Merge the combined dataframe so far with the data on health expenditure\n",
    "# complete_df = semi_fin.merge(elongated_health_data, on = [\"Code\", \"Year\"], how = \"outer\")\n",
    "# complete_df"
   ]
  },
  {
   "cell_type": "markdown",
   "id": "e1da460a",
   "metadata": {},
   "source": [
    "## Combine the DataFrames"
   ]
  },
  {
   "cell_type": "code",
   "execution_count": null,
   "id": "d95d3c84",
   "metadata": {},
   "outputs": [],
   "source": [
    "deaths_by_cause_plus_iso_cc = elongated_death_by_cause.merge(iso_country_codes, on = \"Code\")\n",
    "deaths_by_cause_plus_iso_cc"
   ]
  },
  {
   "cell_type": "code",
   "execution_count": null,
   "id": "393be7b8",
   "metadata": {},
   "outputs": [],
   "source": [
    "deaths_by_age_plus_iso_cc = elongated_death_by_age.merge(iso_country_codes, on = \"Code\")\n",
    "deaths_by_age_plus_iso_cc #[\"Continent_Name\"].isnull().sum()"
   ]
  },
  {
   "cell_type": "code",
   "execution_count": null,
   "id": "0fb9ceff",
   "metadata": {},
   "outputs": [],
   "source": [
    "world_pop_plus_iso_cc = world_population_df.merge(iso_country_codes, on = \"Code\")\n",
    "world_pop_plus_iso_cc #[\"Continent_Name\"].isnull().sum()"
   ]
  },
  {
   "cell_type": "code",
   "execution_count": null,
   "id": "a527ea0a",
   "metadata": {},
   "outputs": [],
   "source": [
    "health_expenditure_plus_iso_cc = elongated_health_data.merge(iso_country_codes, on = \"Code\")\n",
    "health_expenditure_plus_iso_cc"
   ]
  },
  {
   "cell_type": "code",
   "execution_count": null,
   "id": "4782a8a4",
   "metadata": {},
   "outputs": [],
   "source": [
    "deaths_complete = deaths_by_cause_plus_iso_cc.merge(deaths_by_age_plus_iso_cc, \n",
    "                                                    left_on = [\"Code\", \"Entity\", \"Year\", \"Continent_Name\", \"Continent_Code\", \"Country_Name\", \"Two_Letter_Country_Code\", \"Country_Number\"], \n",
    "                                                    right_on = [\"Code\", \"Entity\", \"Year\", \"Continent_Name\", \"Continent_Code\", \"Country_Name\", \"Two_Letter_Country_Code\", \"Country_Number\"]\n",
    "                                                   )\n",
    "deaths_with_population = deaths_complete.merge(world_pop_plus_iso_cc, \n",
    "                                               left_on = [\"Code\", \"Entity\", \"Year\", \"Continent_Name\", \"Continent_Code\", \"Country_Name\", \"Two_Letter_Country_Code\", \"Country_Number\"], \n",
    "                                               right_on = [\"Code\", \"Entity\", \"Year\", \"Continent_Name\", \"Continent_Code\", \"Country_Name\", \"Two_Letter_Country_Code\", \"Country_Number\"]\n",
    "                                              )\n",
    "semi_complete = deaths_with_population.merge(health_expenditure_plus_iso_cc, \n",
    "                                             left_on = [\"Code\", \"Entity\", \"Year\", \"Continent_Name\", \"Continent_Code\", \"Country_Name\", \"Two_Letter_Country_Code\", \"Country_Number\"], \n",
    "                                             right_on = [\"Code\", \"Country Name\", \"Year\", \"Continent_Name\", \"Continent_Code\", \"Country_Name\", \"Two_Letter_Country_Code\", \"Country_Number\"]\n",
    "                                            )\n",
    "semi_complete"
   ]
  },
  {
   "cell_type": "code",
   "execution_count": null,
   "id": "69b2816d",
   "metadata": {},
   "outputs": [],
   "source": [
    "# Limiting the data to data fromm Africa\n",
    "africa_df = semi_complete.loc[semi_complete[\"Continent_Name\"] == \"Africa\"]\n",
    "africa_df"
   ]
  },
  {
   "cell_type": "code",
   "execution_count": null,
   "id": "b9c6020a",
   "metadata": {},
   "outputs": [],
   "source": [
    "# Merging the dataframe on Africa with the data on doctors per 10,000\n",
    "all_africa = africa_df.merge(doctors_per_10k, \n",
    "                             left_on = [\"Entity\", \"Code\", \"Year\"], \n",
    "                             right_on= [\"Location\", \"ThreeLocCode\", \"Period\"])\n",
    "all_africa"
   ]
  },
  {
   "cell_type": "code",
   "execution_count": null,
   "id": "10789213",
   "metadata": {},
   "outputs": [],
   "source": [
    "# Countries with data on doctors\n",
    "#len(doctors_per_10k.loc[doctors_per_10k[\"ParentLocation\"] == \"Africa\"][\"Location\"].unique())"
   ]
  },
  {
   "cell_type": "code",
   "execution_count": null,
   "id": "839ccfae",
   "metadata": {},
   "outputs": [],
   "source": [
    "# Checking the exact number of nulls per column\n",
    "all_africa.isnull().sum()"
   ]
  },
  {
   "cell_type": "markdown",
   "id": "db254191",
   "metadata": {},
   "source": [
    "From the info above, we note that we have lots of nulls in the number of executions column, then on terrorism. There are a few missing on health expenditure as a percentage of GDP and the two-letter country code"
   ]
  },
  {
   "cell_type": "code",
   "execution_count": null,
   "id": "6ae59494",
   "metadata": {},
   "outputs": [],
   "source": [
    "# Dropping seemingly duplicated and useful columns\n",
    "all_africa.drop(columns = [\"Continent_Name\", \"Continent_Code\", \"Country_Name\", \"Two_Letter_Country_Code\", \"Country_Number\", \n",
    "                           \"Country Name\", \"Indicator Name\", \"ParentLocationCode\", \"ParentLocation\", \"ThreeLocCode\", \n",
    "                           \"Location\", \"Period\", \"Value\"], \n",
    "                inplace= True)\n",
    "all_africa"
   ]
  },
  {
   "cell_type": "code",
   "execution_count": null,
   "id": "45ce1294",
   "metadata": {},
   "outputs": [],
   "source": [
    "# What years do we have data on?\n",
    "sorted(all_africa[\"Year\"].unique())"
   ]
  },
  {
   "cell_type": "markdown",
   "id": "f60ce7e2",
   "metadata": {},
   "source": [
    "We note that we have health data from 2000 to 2019 available now."
   ]
  },
  {
   "cell_type": "code",
   "execution_count": null,
   "id": "c20afdfe",
   "metadata": {},
   "outputs": [],
   "source": [
    "# Rename some columns\n",
    "all_africa.rename(columns = {\"Entity\": \"Country\", \n",
    "                             \"Population (historical estimates)\":\"Population_estimate\"}, \n",
    "                  inplace = True)"
   ]
  },
  {
   "cell_type": "code",
   "execution_count": null,
   "id": "43248177",
   "metadata": {
    "scrolled": false
   },
   "outputs": [],
   "source": [
    "# Assume no data on number of deaths implies no deaths for that year and country\n",
    "all_africa[\"Number_of_Deaths\"] = all_africa[\"Number_of_Deaths\"].fillna(0)\n",
    "\n",
    "# Assume no data on health expenditure as a percentage of GDP implies zero investment\n",
    "all_africa[\"Health_Exp_of_GDP\"] = all_africa[\"Health_Exp_of_GDP\"].fillna(0)\n",
    "\n",
    "all_africa.head()"
   ]
  },
  {
   "cell_type": "code",
   "execution_count": null,
   "id": "c547d0ed",
   "metadata": {
    "scrolled": false
   },
   "outputs": [],
   "source": [
    "# Confirm data types\n",
    "all_africa.info(show_counts=True)"
   ]
  },
  {
   "cell_type": "markdown",
   "id": "d1d7f949",
   "metadata": {},
   "source": [
    "*It seems so. So we will work the the FactValueNumeric column for now*"
   ]
  },
  {
   "cell_type": "markdown",
   "id": "de09a35f",
   "metadata": {},
   "source": [
    "**Notes on Indicators** (IndicatorCode:Description):\n",
    "- HWF_0001: Medical doctors (per 10,000)\n",
    "- HWF_0002: Medical doctors (number)\t\n",
    "- HWF_0003: Generalist medical practitioners (number)\t\n",
    "- HWF_0004: Specialist medical practitioners (number)\n",
    "- HWF_0005: Medical doctors not further defined (number)\t"
   ]
  },
  {
   "cell_type": "code",
   "execution_count": null,
   "id": "162acdaa",
   "metadata": {},
   "outputs": [],
   "source": [
    "# Limiting the data to rows with doctors per thousand\n",
    "final_df = all_africa.loc[all_africa[\"IndicatorCode\"] == \"HWF_0001\"]\n",
    "\n",
    "# Drop the redundant columns\n",
    "final_df.drop(columns = [\"IndicatorCode\", \"Indicator\"], inplace = True)\n",
    "\n",
    "# Rename the Doctors per thousand columns\n",
    "final_df.rename(columns = {\"FactValueNumeric\":\"Doctors_per_thousand\"}, inplace = True)\n",
    "\n",
    "final_df.head()"
   ]
  },
  {
   "cell_type": "code",
   "execution_count": null,
   "id": "0a992447",
   "metadata": {},
   "outputs": [],
   "source": [
    "final_df[\"Deaths_per_thousand\"] = (final_df[\"Total_Deaths\"]/final_df[\"Population_estimate\"])*10000"
   ]
  },
  {
   "cell_type": "code",
   "execution_count": null,
   "id": "6675b016",
   "metadata": {
    "scrolled": true
   },
   "outputs": [],
   "source": [
    "final_df.info(show_counts= True)"
   ]
  },
  {
   "cell_type": "code",
   "execution_count": null,
   "id": "875da334",
   "metadata": {},
   "outputs": [],
   "source": [
    "final_df[\"Number_of_Deaths\"] = pd.to_numeric(final_df[\"Number_of_Deaths\"])\n",
    "final_df.head()"
   ]
  },
  {
   "cell_type": "code",
   "execution_count": null,
   "id": "4a1f9fe1",
   "metadata": {},
   "outputs": [],
   "source": [
    "# Get the summary statistics of the DataFrame\n",
    "final_df.describe()"
   ]
  },
  {
   "cell_type": "markdown",
   "id": "786b9ccf",
   "metadata": {},
   "source": [
    "## Hypotheses and Questions"
   ]
  },
  {
   "cell_type": "markdown",
   "id": "d0e3dc05",
   "metadata": {},
   "source": [
    "### The number of doctors per 10,000 population is positively related to the total number of deaths."
   ]
  },
  {
   "cell_type": "code",
   "execution_count": null,
   "id": "5e47411e",
   "metadata": {},
   "outputs": [],
   "source": [
    "# Visualize the relationship between doctors per thousand and total deaths\n",
    "fig = px.scatter(data_frame = final_df, x = \"Doctors_per_thousand\", y = \"Deaths_per_thousand\", \n",
    "                 trendline= \"ols\", title= \"Doctors per thousand vs. Deaths per thousand in Africa\")\n",
    "fig.show()"
   ]
  },
  {
   "cell_type": "markdown",
   "id": "8d6460bb",
   "metadata": {},
   "source": [
    "Per the plot above, we note that there is a negative correlation between doctors per thousand and deaths per thousand, i.e. the number of deaths per thousand decreases with increases in the number of doctors per thousand. This may however not be a necessarily good predictor of deaths per thousand as the R2 is 0.18, meaning that just about 18% of the changes in death per thousand can be accounted for by doctors per thousand. We must however acknowledge that - per the equation of the line - **every unit increase in doctors per thousand leads to a 2.79 times decrease in deaths per thousand.**\n",
    "\n",
    "For starters, countries may want to invest more in increasing doctors per thousand as they explore other factors that may affect deaths per thousand."
   ]
  },
  {
   "cell_type": "markdown",
   "id": "37c8285d",
   "metadata": {},
   "source": [
    "### What is the relationship between health expenditure as a percentage of GDP, and total deaths?"
   ]
  },
  {
   "cell_type": "code",
   "execution_count": null,
   "id": "1549b52f",
   "metadata": {},
   "outputs": [],
   "source": [
    "# Visualize the relationship between health expenditure as a percentage of GDP and total deaths\n",
    "fig = px.scatter(data_frame = final_df, x = \"Health_Exp_of_GDP\", y = \"Total_Deaths\", \n",
    "                 trendline= \"ols\", title = \"Relationship between Health Expenditure as a percent of GDP and Total Deaths in African Countries\")\n",
    "fig.show()"
   ]
  },
  {
   "cell_type": "markdown",
   "id": "67bf9e98",
   "metadata": {},
   "source": [
    "Here too, we note that there is a (very weak) negative correlation between health expenditure as a percentage of GDP and the total deaths in a country. This, also, with an R2 value of 0.01 or 1.23% health expenditure as a percentage of GDP is a weak predictor of total deaths in a country.\n",
    "\n",
    "Another takeaway from the chart is that majority of African countries invest between 4% to 6% of their GDP on health expenditure. This is not far off the ~ 9% average for the global north; the real values may differ though.\n",
    "\n",
    "As with the suggestion above, countries may want to invest increase their investments in healthcare so as to feel the ripple effects in reducing total deaths.\n",
    "\n",
    "***But who are those outliers?***"
   ]
  },
  {
   "cell_type": "code",
   "execution_count": null,
   "id": "d2c40680",
   "metadata": {},
   "outputs": [],
   "source": [
    "# Visualize the relationship between health expenditure as a percentage of GDP and total deaths and colour by country\n",
    "fig = px.scatter(data_frame = final_df, x = \"Health_Exp_of_GDP\", y = \"Total_Deaths\", color= \"Country\", trendline= \"ols\", \n",
    "                 title = \"Relationship between Health Expenditure as a percent of GDP and Total Deaths in African Countries (coloured)\")\n",
    "fig.show()"
   ]
  },
  {
   "cell_type": "markdown",
   "id": "f99d31d6",
   "metadata": {},
   "source": [
    "From the interactive plot, we note that the outliers are as follows:\n",
    "1. **Nigeria (Green):** They have the highest total deaths, which may be understandable. But as the highest value of total deaths over the period, it is particularly concerning that their health expenditure as a percentage of GDP is just around the average of African countries. \n",
    "    + Here, total deaths increase even with increases in health expenditure. \n",
    "    + Given their population, total deaths, and potential for population growth, the Giant of Africa may want to take conscious action to invest more in their health sector not only to increase the percentage of GDP but also to reduce the rates of death (with the earlier insights in mind). \n",
    "    + Given the recent \"japa\" movmement, they may also want to incentivise doctors to stay in the country so as to at least maintain the number of doctors per thousand.\n",
    "\n",
    "2. **Ethiopia (Orange):** Ethiopia has recorded total deaths between 0.5 and 0.9 million over the period, while their healthcare expenditure as a percentage of GDP is just about average. Like Nigeria, even with increases in healthcare expenditure as a percentage of GDP, total deaths increase. This is particularly concerning and creates a need to assess other options of reducing the total deaths in the country. For starters, it will be best for the government to invest in their healthcare as they take other steps to reduce the year-on-year total deaths.\n",
    "\n",
    "3. **South Africa (Yellow):** Unlike Nigeria and Ethiopia, the total deaths in South Africa seems to respond positively to increases in health expenditure as a percentage of GDP. This should motivate the government to invest more in their health sector to improve healthcare delivery and reduce the total deaths.\n",
    "\n",
    "4. **Least investors:** Even though they had low total deaths, Zimbabwe, Somalia and Libya seemed to have made barely any investment in their health sector. *Comments are reserved until I am able to get more data on their healthcare expenditure.*\n",
    "\n",
    "5. **Highest investors:** Sierra Leone, Malawi, Sao Tome, and Lesotho seem to have made the most investments in their healthcare over the period. This is reflected in their relatively low total deaths over the period. These countries may serve as examples to the rest of the continent that good investments (read in healthcare) yield positive results for the country and the population as a whole."
   ]
  },
  {
   "cell_type": "markdown",
   "id": "7289c378",
   "metadata": {},
   "source": [
    "### Which causes of death are most common in Africa?"
   ]
  },
  {
   "cell_type": "code",
   "execution_count": null,
   "id": "1b903d57",
   "metadata": {},
   "outputs": [],
   "source": [
    "cause_of_death_ = final_df.groupby(by = [\"Cause_of_Death\"]).agg({\"Number_of_Deaths\":\"sum\"}).reset_index()\n",
    "cause_of_death_.sort_values(by = \"Number_of_Deaths\", ascending=False, ignore_index=True, inplace=True)\n",
    "cause_of_death_.head(20)"
   ]
  },
  {
   "cell_type": "code",
   "execution_count": null,
   "id": "5e84bac2",
   "metadata": {
    "scrolled": false
   },
   "outputs": [],
   "source": [
    "# Visualize the results\n",
    "fig = px.bar(data_frame = cause_of_death_, x = \"Cause_of_Death\", y = \"Number_of_Deaths\", \n",
    "             title= \"Top Causes of Death in Africa\")\n",
    "fig.show()"
   ]
  },
  {
   "cell_type": "markdown",
   "id": "9a69ca80",
   "metadata": {},
   "source": [
    "From the resulting dataframe and the visualization above, we note that for the contient as a whole, the leading causes of death are Cardiovascular diseases (39m), HIV/AIDS (35m), Neonatal disorders (31m), Diarrheal diseases (29m), and Lower respiratory infections (28.8m), and Malaria (27.8m). The gap between these 6 and the rest must be noted, and factored into decision making."
   ]
  },
  {
   "cell_type": "markdown",
   "id": "2bb85d85",
   "metadata": {},
   "source": [
    "### Which causes of death affect young Africans the most?"
   ]
  },
  {
   "cell_type": "markdown",
   "id": "fc5b701e",
   "metadata": {},
   "source": [
    "But with a median age of about 18 years, one would be particularly interested in what has caused most deaths in Africa's youngest population over the period. But to ensure that the insights are still relevant to current trends, assuming a relatively slow level of growth in healthcare investments in Africa, I will limit this analysis to the post-2010 years of the dataset. i.e. the analysis of the leading causes of deaths for youth in Africa will be limited to 2010 - 2019"
   ]
  },
  {
   "cell_type": "code",
   "execution_count": null,
   "id": "30ed4db0",
   "metadata": {},
   "outputs": [],
   "source": [
    "young_africans_df = final_df.loc[final_df[\"Age_Group\"] == \"Young Adult\"]\n",
    "young_africans_df = young_africans_df.loc[young_africans_df[\"Year\"] >= 2010]\n",
    "young_africans_df"
   ]
  },
  {
   "cell_type": "code",
   "execution_count": null,
   "id": "c492fabc",
   "metadata": {},
   "outputs": [],
   "source": [
    "cause_of_youths_death = young_africans_df.groupby(by = [\"Cause_of_Death\"]).agg({\"Number_of_Deaths\":\"sum\"}).reset_index()\n",
    "cause_of_youths_death.sort_values(by = \"Number_of_Deaths\", ascending=False, ignore_index=True, inplace=True)\n",
    "cause_of_youths_death.head(20)"
   ]
  },
  {
   "cell_type": "code",
   "execution_count": null,
   "id": "09f0bcc4",
   "metadata": {},
   "outputs": [],
   "source": [
    "# Visualize the top causes of death among young Africans\n",
    "fig = px.bar(cause_of_youths_death.head(10), x = \"Cause_of_Death\", y = \"Number_of_Deaths\", color=\"Cause_of_Death\", \n",
    "             title= \"Top Causes of Death among Young Adults in Africa\")\n",
    "fig.show()"
   ]
  },
  {
   "cell_type": "markdown",
   "id": "ba0abae6",
   "metadata": {},
   "source": [
    "Much like the general population, the top 5 causes of death among young Africans are Cardiovascular diseases, HIV/AIDS, Neonatal disorders, Lower respiratory infections, and Malaria. The gap between the first, cardiovascular diseases, and the rest should be of grave concern to countries."
   ]
  },
  {
   "cell_type": "markdown",
   "id": "00c58e0c",
   "metadata": {},
   "source": [
    "### What has been the trend of the leading causes of death among the youth over the years?"
   ]
  },
  {
   "cell_type": "code",
   "execution_count": null,
   "id": "32ae908c",
   "metadata": {},
   "outputs": [],
   "source": [
    "youth_deaths_by_year = young_africans_df.groupby(by = [\"Year\", \"Cause_of_Death\"]).agg({\"Number_of_Deaths\":\"sum\"}).reset_index()\n",
    "youth_deaths_by_year.sort_values(by = \"Number_of_Deaths\", ascending=False, ignore_index=True, inplace=True)\n",
    "youth_deaths_by_year[\"Year\"] = youth_deaths_by_year[\"Year\"].apply(int)\n",
    "youth_deaths_by_year.head(20)"
   ]
  },
  {
   "cell_type": "code",
   "execution_count": null,
   "id": "eda2e468",
   "metadata": {},
   "outputs": [],
   "source": [
    "plt.figure(figsize= (8,4))\n",
    "youth_plot = sns.lineplot(data= youth_deaths_by_year, x = \"Year\", y = \"Number_of_Deaths\")\n",
    "youth_plot.set(xlabel =\"Year\", ylabel = \"Number of Deaths\", title = \"Trend of Deaths among Young Adults in Africa\")"
   ]
  },
  {
   "cell_type": "markdown",
   "id": "433e8304",
   "metadata": {},
   "source": [
    "From the plot, we note that deaths among young African adults increased significantly in 2013 from 2012, then dipped till 2015 before increasing slightly in 2016. The same thing repeated, with a dip in 2017 and a huge increase in 2018 (peak) then a dip in 2019. With this in mind, COVID may not be the only factor to blame if and when we see the data for 2020 and beyond. With this trend, we must also acknowledge that the trend of deaths has been increasing on average."
   ]
  },
  {
   "cell_type": "markdown",
   "id": "5b98a846",
   "metadata": {},
   "source": [
    "### How have the causes of death changed with this trend?"
   ]
  },
  {
   "cell_type": "code",
   "execution_count": null,
   "id": "ad63a380",
   "metadata": {},
   "outputs": [],
   "source": [
    "plt.figure(figsize= (25,10))\n",
    "youth_plot = sns.lineplot(data= youth_deaths_by_year, x = \"Year\", y = \"Number_of_Deaths\", hue = \"Cause_of_Death\")\n",
    "youth_plot.set(xlabel =\"Year\", ylabel = \"Number of Deaths\", \n",
    "               title = \"Trend of Deaths among Young Adults in Africa by Cause of Death\")"
   ]
  },
  {
   "cell_type": "markdown",
   "id": "daa19839",
   "metadata": {},
   "source": [
    "From the plot above, we note that the trend among the causes of deaths have remained largely the same, i.e. cardiovascular diseases, neonatal disorders, HIV/AIDS, lower respiratory infections, diarrheal diseases, and malaria are still top 6. This points to either increases in said diseases and/or disorders over the period relative to treatment, or a poor approach to tackling them. Or could it be related to population changes?\n",
    "\n",
    "The position of neonatal disorders is very concerning because it would likely have been much worse if it affected men just as commonly as it does women. This should prompt immediate action and trigger focus on maternal care and education of women with regard to their lifestyles during pregnancy.\n",
    "\n",
    "In any case, African governments may want to focus attention on dealing aggressively with cardiovascular diseases, which have led the pack by a mile over the period.\n",
    "\n",
    "*But how does this trend relate to the population of a country?*"
   ]
  },
  {
   "cell_type": "markdown",
   "id": "db034de3",
   "metadata": {},
   "source": [
    "### How do the causes of death relate with population changes?"
   ]
  },
  {
   "cell_type": "markdown",
   "id": "b11f49c4",
   "metadata": {},
   "source": [
    "For this analysis, I will limit it to the countries which have experienced the highest levels of growth over the relevant period."
   ]
  },
  {
   "cell_type": "code",
   "execution_count": null,
   "id": "e47b4efd",
   "metadata": {
    "hide_input": false
   },
   "outputs": [],
   "source": [
    "# Population for 2010 - 2019\n",
    "limited_popn = melted_population.iloc[:, -12:-2]\n",
    "\n",
    "# Names of countries\n",
    "countries = melted_population[[\"Entity\"]]\n",
    "\n",
    "# Join countries with populations\n",
    "countries_w_popn = countries.join(limited_popn)\n",
    "countries_w_popn.rename(columns = {\"Entity\":\"Country\"}, inplace = True)\n",
    "\n",
    "# Calculate the cumulative population change\n",
    "countries_w_popn[\"Cumulative_popn_change\"] = countries_w_popn[2019] - countries_w_popn[2010]\n",
    "\n",
    "# Melt and extract the population changes\n",
    "countries_w_popn = countries_w_popn.melt(id_vars= [\"Country\", \"Cumulative_popn_change\"], \n",
    "                                         value_vars = countries_w_popn.iloc[:, 1:].columns.to_list(), \n",
    "                                         value_name = \"Population_estimate\")\n",
    "countries_w_popn.rename(columns = {\"value\":\"Year\"}, inplace= True)\n",
    "countries_w_popn.head()"
   ]
  },
  {
   "cell_type": "code",
   "execution_count": null,
   "id": "a95c5312",
   "metadata": {},
   "outputs": [],
   "source": [
    "# Separate African countries\n",
    "ya_w_popn = young_africans_df.merge(countries_w_popn, on = [\"Country\", \"Year\", \"Population_estimate\"])\n",
    "ya_w_popn.head()"
   ]
  },
  {
   "cell_type": "code",
   "execution_count": null,
   "id": "71eb3f30",
   "metadata": {},
   "outputs": [],
   "source": [
    "# Define subplots and figure size\n",
    "fig, ax = plt.subplots(1,2, figsize=(15,5))\n",
    "\n",
    "# Plot data to the left subplot\n",
    "youth_plot = sns.lineplot(data= youth_deaths_by_year, x = \"Year\", y = \"Number_of_Deaths\", ax=ax[0])\n",
    "youth_plot.set(xlabel =\"Year\", ylabel = \"Number of Deaths\", title = \"Trend of Deaths among Young Adults in Africa\")\n",
    "\n",
    "# Plot data to the right subplot\n",
    "popn_changes = sns.lineplot(data= ya_w_popn, x = \"Year\", y = \"Cumulative_popn_change\", ax=ax[1])\n",
    "popn_changes.set(xlabel =\"Year\", ylabel = \"Total Population Change\", title = \"Trend of Population changes in Africa\")\n",
    "\n",
    "# Show plot\n",
    "plt.show()"
   ]
  },
  {
   "cell_type": "markdown",
   "id": "0540b108",
   "metadata": {},
   "source": [
    "From the plots above, we note that even though number of deaths among young adult Africans has been on an (averagely) increasing trajectory over the period, population changes have been stable on average. On the face of it, we may say that they are not related. We may however want to get more data to explore and better examine and explain the relationship between population changes and deaths caused by the top 5 causes of death among (young) Africans. *This analysis is limited partly because there is inadequate data on the growth rates of the various age groups to better understand the relationship with the top causes of death.*"
   ]
  },
  {
   "cell_type": "markdown",
   "id": "7f4fce63",
   "metadata": {},
   "source": [
    "### How does the number of medical professionals per 10,000 people correlate with the rate of deaths from cardiovascular diseases?"
   ]
  },
  {
   "cell_type": "code",
   "execution_count": null,
   "id": "44394f5a",
   "metadata": {},
   "outputs": [],
   "source": [
    "# Another look at how the African data looks like\n",
    "final_df.head()"
   ]
  },
  {
   "cell_type": "code",
   "execution_count": null,
   "id": "07477327",
   "metadata": {},
   "outputs": [],
   "source": [
    "# Separate data on cardiovascular diseases\n",
    "cardiovascular_deaths_df = final_df.loc[final_df[\"Cause_of_Death\"] == \"Cardiovascular diseases\"]\n",
    "cardiovascular_deaths_df[\"Deaths_per_thousand\"] = 1000* (cardiovascular_deaths_df[\"Number_of_Deaths\"]/cardiovascular_deaths_df[\"Population_estimate\"])\n",
    "cardiovascular_deaths_df.head()"
   ]
  },
  {
   "cell_type": "code",
   "execution_count": null,
   "id": "a28dc157",
   "metadata": {
    "scrolled": false
   },
   "outputs": [],
   "source": [
    "# Visualize the relationship between doctors per thousand and deaths from cardiovascular diseases\n",
    "fig = px.scatter(data_frame = cardiovascular_deaths_df, x = \"Doctors_per_thousand\", y = \"Deaths_per_thousand\", \n",
    "                 trendline= \"ols\", title = \"Relationship between medical professionals and cardiovascular deaths (per thousand)\")\n",
    "fig.show()"
   ]
  },
  {
   "cell_type": "markdown",
   "id": "67073b6e",
   "metadata": {},
   "source": [
    "Shockingly, the number of deaths per thousand increases as doctors per thousand also increases. With a coefficient of determination of 49%, *the data indicates* that changes in doctors per thousand may explain about 49% of variations in cardiovascular deaths per thousand. This alludes to the earlier finding that doctors per thousand may not necessarily be a good predictor of deaths per thousand. e.g. a doctor may not be able to do enough if the diseases are not diagnosed early and/or if they do not have the requisite resources to save the life.\n",
    "\n",
    "We must however acknowledge the fact that there are several outliers as seen on the scatterplot, so *let us dig deeper, shall we? Is it same for every country or not?*"
   ]
  },
  {
   "cell_type": "code",
   "execution_count": null,
   "id": "2e5f0bfb",
   "metadata": {},
   "outputs": [],
   "source": [
    "# Visualize the relationship between doctors per thousand and deaths from cardiovascular diseases by country\n",
    "fig = px.scatter(data_frame = cardiovascular_deaths_df, x = \"Doctors_per_thousand\", y = \"Deaths_per_thousand\", \n",
    "                 trendline= \"ols\", title = \"Relationship between medical professionals and cardiovascular deaths (per thousand)\", \n",
    "                 color= \"Country\")\n",
    "fig.show()"
   ]
  },
  {
   "cell_type": "markdown",
   "id": "1160e72d",
   "metadata": {},
   "source": [
    "Well, *we may want to heave a temporary sigh of relief here*. In general, where the countries are crowded (indicating low deaths per thousand and doctors per thousand), there is a mixed bag but it is visible that in most cases there is a negative correlation between deaths per thousand and doctors per thousand. So who are the outliers:\n",
    "1. *Morocco:* Morocco has a comparatively higher-than-average doctors per thousand and a very high number of deaths per thousand, and shows a positive correlation between the two variables. It may want to take active steps to assess other risk factors of cardiovascular diseases.\n",
    "2. *Tunisia:* Have the same case as Morocco, high deaths per thousand but also with relatively high and increasing doctors per thousand. Given that the correlation still persists, they may want to investigate other causative factors and take corrective action.\n",
    "3. *Algeria and Malawi:* Similar principles as with Morocco and Tunisia.\n",
    "4. *Mauritius and Seychelles:* These are the outsiders of the outliers. The doctors per thousand is negatively correlated with deaths per thousand as with the majority of the population.\n",
    "\n",
    "Overall, governments may want to invest more in increasing doctors per thousand to handle the leading killer of Africans, cardiovascular diseases."
   ]
  },
  {
   "cell_type": "markdown",
   "id": "6f322e5c",
   "metadata": {},
   "source": [
    "## Insights and Recommendations"
   ]
  },
  {
   "cell_type": "markdown",
   "id": "1379a6ea",
   "metadata": {},
   "source": [
    "1. Doctors per thousand and the percentage of GDP invested in healthcare are negatively correlated with deaths per thousand. This means that deaths per thousand decrease as these variables increase. This may be partly understandable, as the returns on investing in healthcare are not reaped immediately. Countries should therefore want to focus on investing more in the training of healthcare professionals to increase doctors per thousand and investing in healthcare infrastructure in order to reduce the number of deaths per thousand and prepare their respective countries for increased healthcare demands from the relatively young African population.\n",
    "2. In the short term, however, governments may consider providing additional training and resources to healthcare professionals in order to improve their ability to provide adequate healthcare to citizens.\n",
    "3. Majority of African countries invest between 4% to 6% of their GDP on health expenditure as compared to the ~ 9% average for the global north. This needs to improve for significant healthcare gains.\n",
    "4. The total deaths vs. healthcare investment percent in Nigeria and Ethiopia is not the best, and may require substantial investment to improve. The improvements in South Africa should be motivation to other countries to invest in their healthcare sector more in order to reduce total deaths. Zimbabwe, Somalia and Libya seemed to have made barely any investment in their health sector, while Sierra Leone, Malawi, Sao Tome, and Lesotho seem to have made the most investments over the period; the results are evident in their comparative total deaths vs. healthcare investment positions.\n",
    "5. The leading causes of death in Africa are Cardiovascular diseases (39m), HIV/AIDS (35m), Neonatal disorders (31m), Diarrheal diseases (29m), and Lower respiratory infections (28.8m), and Malaria (27.8m).  These six are the same for deaths among young adults in Africa, with Diarrheal diseases dropping to 6th. On average, this has been the case from 2010 to 2019 with significant increases almost every two years, and therefore requires African governments to prioritize their prevention, treatment and reduction. \n",
    "    + The position of neonatal disorders is very concerning because it would likely have been much worse if it affected men just as commonly as it does women. This should prompt immediate action and trigger focus on maternal care and education of women with regard to their lifestyles during pregnancy.\n",
    "    + An immediate step may be to collaborate with relevant stakeholders to educate the citizenry and advocate for preventive measures such as healthier lifestyles. \n",
    "    + In the medium term (3-5 years), governments may also develop policies and programs aimed at improving public health and reducing the risk factors associated with these causes of death among Africans.\n",
    "    + In the long term, African governments need to conduct further research into the factors driving the prevalent causes of death and develop strategies for preventing and reducing them.\n",
    "5. The number of deaths per thousand increases as doctors per thousand also increases. With a coefficient of determination of 49%, *the data indicates* that changes in doctors per thousand may explain about 49% of variations in cardiovascular deaths per thousand. This alludes to the earlier finding that doctors per thousand may not necessarily be a good predictor of deaths per thousand. This observation does not hold for the whole continent though, there are significant outliers."
   ]
  },
  {
   "cell_type": "markdown",
   "id": "43e3165b",
   "metadata": {},
   "source": [
    "## Conclusion: Should drug abuse be Africa's immediate health concern?"
   ]
  },
  {
   "cell_type": "markdown",
   "id": "1424cb5e",
   "metadata": {},
   "source": [
    "Yes and no. Drug abuse should be and should not be Africa's immediate health concern.\n",
    "\n",
    "**Why no?** From the analysis, we noted that cardiovascular diseases, HIV/AIDS, neonatal disorders, diarrheal diseases, and lower respiratory infections have plagued Africans for over 10 years running. For this reason, Africa's priority in the short term should be to combat these diseases. We must also acknowledge that long term drug abuse can lead to cardiovascular diseases (whose leading causes are lifestyle factors); this leads us to the answer of why yes. We also note a relatively low number of doctors per thousand and low healthcare expenditure as a percentage of GDP, these should the primary focus of African countries.\n",
    "\n",
    "**Why yes?** Long term drug abuse can lead to cardiovascular diseases. Yes, drug abuse can lead to high blood pressure, irregular heartbeats, increased risk of stroke, heart attack, and heart failure. It can also lead to inflammation of the heart muscle, which can cause the heart to become enlarged and reduce the heart's ability to pump blood efficiently. These are *tied directly to* cardiovascular diseases. \n",
    "And so by answering yes to if drug abuse should be Africa's immediate health concern, we mean to say that in order to avert a drug abuse-driven health crises in the future, Africa should take immediate steps to curtail the prevalence of drug abuse. This may begin with education and sensitization of the citizenry, passage of relevant policies and strict enforcement of laws on drugs."
   ]
  }
 ],
 "metadata": {
  "kernelspec": {
   "display_name": "Python 3 (ipykernel)",
   "language": "python",
   "name": "python3"
  },
  "language_info": {
   "codemirror_mode": {
    "name": "ipython",
    "version": 3
   },
   "file_extension": ".py",
   "mimetype": "text/x-python",
   "name": "python",
   "nbconvert_exporter": "python",
   "pygments_lexer": "ipython3",
   "version": "3.9.13"
  },
  "toc": {
   "base_numbering": 1,
   "nav_menu": {},
   "number_sections": true,
   "sideBar": true,
   "skip_h1_title": false,
   "title_cell": "Table of Contents",
   "title_sidebar": "Contents",
   "toc_cell": true,
   "toc_position": {},
   "toc_section_display": true,
   "toc_window_display": true
  }
 },
 "nbformat": 4,
 "nbformat_minor": 5
}
